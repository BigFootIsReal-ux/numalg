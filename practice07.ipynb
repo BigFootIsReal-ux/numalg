{
 "cells": [
  {
   "cell_type": "markdown",
   "metadata": {},
   "source": [
    "# Introduction to numerical algorithms\n",
    "## Practice class 7 - Numerical integration"
   ]
  },
  {
   "cell_type": "code",
   "execution_count": 1,
   "metadata": {},
   "outputs": [],
   "source": [
    "import numpy as np\n",
    "from matplotlib import pyplot as plt\n",
    "from matplotlib import cm\n",
    "import scipy"
   ]
  },
  {
   "cell_type": "markdown",
   "metadata": {},
   "source": [
    "### Task 1 - Newton-Cotes methods\n",
    "\n",
    "These methods are useful for functions sampled in equidistant points or measurements with a fixed sampling frequency. \n",
    "\n",
    "The trapezoid rule sums up the volume of the trapezoids in each interval, or in other words it approximates the function with a line on each segment:\n",
    "\n",
    "<img src=\"https://pythonnumericalmethods.studentorg.berkeley.edu/_images/21.03.1-Trapezoid_integral.png\" alt=\"drawing\" width=\"600\"/>\n",
    "\n",
    "The Simpson's rule approximates the function with a quadratic function for each segment and for that uses three consecutive points.\n",
    "\n",
    "<img src=\"https://pythonnumericalmethods.studentorg.berkeley.edu/_images/21.04.1-Simpson_integral.png\" alt=\"drawing\" width=\"600\"/>\n",
    "\n",
    "1. **Implement the trapezoid rule!**\n",
    "$$\n",
    "\\int_a^b f(x) \\text{d}x = \\sum_{i=0}^{n-1} h\\dfrac{f(x_i)+f(x_{i+1})}{2}\n",
    "$$\n",
    "Write the function `my_int(f,a,b,N,method)`, where `f` is a function, `a>b` real numbers defining the integral bounds, `N` is an integer giving the numer of intervals and `method` is a string giving the method to use for the calculation of the integral, in this case `method=trap`.\n",
    "\n",
    "2. **Implement Simpson's rule!**\n",
    "\n",
    "The integral of a segment is:\n",
    "$$\n",
    "\\int_{x_i}^{x_{i+2}} f(x) \\text{d}x = \\dfrac{h}{3} \\left[ f(x_i)+ 4f(x_{i+1})+  f(x_{i+2}) \\right]\n",
    "$$\n",
    "Take a peace of paper and derive the formula for the whole interval. Implement the formula in your previous `my_int` function with `method=simp`.\n",
    "\n",
    "3. Simpson’s rule requires an even number of intervals. What happens if `N` is odd, and why is this a limitation?🙋‍♂️\n",
    "4. Compare the performance of the two methods on \n",
    "\n",
    "$$\n",
    "\\int_0^\\pi \\sin(x) \\text{d} x\n",
    "$$ \n",
    "\n",
    "and \n",
    "\n",
    "$$\n",
    "\\int_{-1}^{+1} \\sqrt{1-x^2} \\text{d}x\\;.\n",
    "$$ \n",
    "\n",
    "Plot the two results as you increase the number of points up to $N=1000$, also plot the analytic result as a horizontal line. \n",
    "5. Analyze the error, defined as\n",
    "$$\n",
    "\\text{err}(N) = \\left\\lvert \\int_a^b f(x) \\text{d}x - \\text{my\\_ int(f,a,b,N,method)}\\right\\lvert\\;,\n",
    "$$\n",
    "does it follows $\\mathcal{O}(h^2)$ and $\\mathcal{O}(h^4)$ for the trapezoid and the Simpson method respectively. Conduct the following experiment, compute the integral for up to $N=1000$ points and plot the error with a logaritmic y axis. Can you explein what you see?🙋‍♂️"
   ]
  },
  {
   "cell_type": "code",
   "execution_count": null,
   "metadata": {},
   "outputs": [
    {
     "name": "stdout",
     "output_type": "stream",
     "text": [
      "0.9949793349133221\n",
      "0.020943951023931956\n"
     ]
    }
   ],
   "source": [
    "import numpy as np\n",
    "\n",
    "def my_int(f,a,b,N,method):\n",
    "    h=(b-a)/N\n",
    "\n",
    "    if method== 'trap':\n",
    "        x= np.linspace(a,b,N)\n",
    "        y=f(x)\n",
    "        integral = ((h/2)*(y[1:]+y[:1-N])).sum()\n",
    "\n",
    "    if method== 'simpson':\n",
    "        x= np.linspace(a,b,N)\n",
    "        y=f(x)\n",
    "        integral = (h/3)*(f(y[:1])+4*f(y()/2)+f(b))\n",
    "\n",
    "    return integral\n",
    "\n",
    "\n",
    "print(my_int(np.sin , 0 ,np.pi , 200 , 'trap'))\n",
    "print(my_int(np.sin , 0 ,np.pi , 200 , 'simpson'))"
   ]
  },
  {
   "cell_type": "markdown",
   "metadata": {},
   "source": [
    "### Task 2 - Singularities\n",
    "\n",
    "What about diverging functions?\n",
    "\n",
    "It can happen, that your function divergies at one of the end points of the interval.\n",
    "\n",
    "**At the left endpoint**\n",
    "$$\n",
    "\\int_0^2 \\dfrac{\\sin(x)}{\\sqrt{x}} \\text{d}x\n",
    "$$\n",
    "**At the right endpoint**\n",
    "$$\n",
    "\\int_0^1 \\dfrac{\\sin(x)}{\\sqrt{1-x}} \\text{d}x \n",
    "$$\n",
    "**Or both**\n",
    "$$\n",
    "\\int_0^1 \\dfrac{\\sin(x)}{\\sqrt{x(1-x)}} \\text{d}x \n",
    "$$\n",
    "\n",
    "1. Try to calculate these integrals with your previous trapeziod or Simpson integral, what is your experience? \n",
    "2. The way out is the change of variables and some more tricks for the last one. Try it yourself, or here are some hints:\n",
    "<details>\n",
    "<summary> <b>Hint for the 1st integral</b> </summary>\n",
    "  replace squareroot of x \n",
    "</details>\n",
    "<details>\n",
    "<summary> <b>Hint for the 2nd integral</b> </summary>\n",
    "  replace 1-x\n",
    "</details>\n",
    "<details>\n",
    "<summary> <b>Hint for the 3rd integral</b> </summary>\n",
    "  Devide the interval into two parts (at any midpoint), this way you can use separate variable changes for the two integrals.\n",
    "  <details>\n",
    "    <summary> <b>Some more hints</b> </summary>\n",
    "    Apply the 1st hint for the integral divergent at 0, and apply the 2nd hint for the one divergent at 1.\n",
    "    </details> \n",
    "</details>\n",
    "After you have a proper integral calculate it with your existing function."
   ]
  },
  {
   "cell_type": "markdown",
   "metadata": {},
   "source": [
    "### Task 3 - Gauss-Legendre quadrature\n",
    "Sometimes you need very accurate integral of known functions. The Gauss-Legendre quadrature with $n$ points integrate polinomials of order $2n-1$ exactly. For that uses a special sampling of points ($x_i$) with special weights ($w_i$).\n",
    "\n",
    "1. Use scipy to find the nodes and the weights (see the code below with the funtion `roots_legendre`) and then implement the Gauss-Legendre quadrature.\n",
    "$$\n",
    "\\int_{-1}^{1} f(x) \\text{d} x = \\sum_{i=1}^n w_i f(x_i)\n",
    "$$\n",
    "Use your previous funtion `my_int` with `method=quad` and `N` is the number of points. \n",
    "\n",
    "2. To make it a widely applicable method we need to make it work with arbitrary intervals. It can be done with the change of variables.\n",
    "$$\n",
    "\\int_a^b f(x) \\text{d} x = \\dfrac{b-a}{2} \\sum_{i=1}^n w_i f\\left( \\dfrac{a+b}{2}+\\dfrac{b-a}{2}x_i \\right) = \\sum_{i=1}^N \\tilde{w}_i f(\\tilde{x}_i)\n",
    "$$ \n",
    "implement this in your code. Note that it gives the original formula for `a=-1` and `b=1`.\n",
    "\n",
    "3. Analyze the performance of the method on \n",
    "\n",
    "$$\n",
    "\\int_0^\\pi \\sin(x) \\text{d} x$$ \n",
    "\n",
    "and \n",
    "\n",
    "$$\n",
    "\\int_{-1}^{+1} \\sqrt{1-x^2} \\text{d}x\\;.\n",
    "$$\n",
    "\n",
    "Plot the error of the integral as you increase the number of points from $N=4$ up to $N=20$. Also compare with your previous results with trapezoid and Simspon integrals. "
   ]
  },
  {
   "cell_type": "code",
   "execution_count": 2,
   "metadata": {},
   "outputs": [],
   "source": [
    "from scipy.special import roots_legendre\n",
    "\n",
    "[xi,wi]=roots_legendre(n=5) # this function gives you the points and the corresponding wights for the quadrature"
   ]
  },
  {
   "cell_type": "markdown",
   "metadata": {},
   "source": [
    "### Task 4 - The volume of an N dimensional hypersphere.\n",
    "\n",
    "Use Monte Carlo integration to solve the problem. \n",
    "\n",
    "1. Generate a large number of points in the $N$ dimensional Euclidean space inside a hyper cube with side length 2 in the $[-1,1]$ interval. You can do it with the `np.uniform` function. \n",
    "2. Check that the point is inside the sphere or not.\n",
    "3. The volume is:\n",
    "$$\n",
    "V_{\\text{sphere}} = V_{\\text{cube}} \\dfrac{\\text{Number of points inside the sphere}}{\\text{Total number of points}} \n",
    "$$\n",
    "\n",
    "The analytic solution for a $d$ dimensional unit sphere:\n",
    "$$\n",
    "V_d = \\dfrac{\\pi^{d/2}}{\\Gamma(\\frac{d}{2}+\\frac{1}{2})} \n",
    "$$\n",
    "where $\\Gamma(x)$ is the [Gamma funtion](https://mathworld.wolfram.com/GammaFunction.html).\n",
    "\n",
    "4. Check the error of your Monte Carlo integral for $d=10$. Use exponentially increasing number of points for the integral up to $N=10^6$ and plot the error with a logarithmic $x$ axis."
   ]
  },
  {
   "cell_type": "markdown",
   "metadata": {},
   "source": [
    "### Homework - Electrostatics\n",
    "\n",
    "There is a rod along the $z$ axis between $-L/2$ and $L/2$. The rod has a uniform $\\lambda$ charge density. Calculate the electrostatic potential along the $z$ axis:\n",
    "$$\n",
    "V(z) = \\dfrac{1}{4\\pi\\varepsilon_0} \\int_{-L/2}^{L/2} \\text{d} t \\dfrac{\\lambda }{\\sqrt{t^2+z^2}} \n",
    "$$\n",
    "\n",
    "The analytic solution is:\n",
    "$$\n",
    "V(z) = \\dfrac{\\lambda}{2\\pi\\varepsilon_0} \\text{arsinh}\\left( \\dfrac{L}{2z} \\right)\n",
    "$$\n",
    "\n",
    "1. Use your own implementation of one of the methods studied at class (trapezoid, Simpson, Gauss-Legendre) and calculate the integral. Note that you have to do this for different points along the $z$ axis. Define the function `rod_potential(lambda,L,z,N)`, where `lambda` is the charge density, `L` is the length of the rod, `z` is the coordinates where the potential is evaluated and `N` is the number of points used for the integration. Use an interval of $[-5L,5L]$ and $N=100$ for Newton-Cotes methods or $N=10$ for Gauss-Legendre quadrature.\n",
    "2. Check the convergence of your result by comparing with the analytic result. Plot the error on a 2D heatmap as a function of the number of points used for the integral and the $z$ coordinate. \n",
    "3. Generalize your solver to work for any $\\lambda(t)$ charge distribution.\n",
    "4. Calculate the potential for $\\lambda(t)=\\cos(\\pi t/L)$."
   ]
  }
 ],
 "metadata": {
  "kernelspec": {
   "display_name": "inm",
   "language": "python",
   "name": "python3"
  },
  "language_info": {
   "codemirror_mode": {
    "name": "ipython",
    "version": 3
   },
   "file_extension": ".py",
   "mimetype": "text/x-python",
   "name": "python",
   "nbconvert_exporter": "python",
   "pygments_lexer": "ipython3",
   "version": "undefined.undefined.undefined"
  }
 },
 "nbformat": 4,
 "nbformat_minor": 2
}
